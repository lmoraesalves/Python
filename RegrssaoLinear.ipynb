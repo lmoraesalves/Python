{
  "nbformat": 4,
  "nbformat_minor": 0,
  "metadata": {
    "colab": {
      "provenance": [],
      "authorship_tag": "ABX9TyP4l99/mivTnlDM3B5X0XuQ",
      "include_colab_link": true
    },
    "kernelspec": {
      "name": "python3",
      "display_name": "Python 3"
    },
    "language_info": {
      "name": "python"
    }
  },
  "cells": [
    {
      "cell_type": "markdown",
      "metadata": {
        "id": "view-in-github",
        "colab_type": "text"
      },
      "source": [
        "<a href=\"https://colab.research.google.com/github/lmoraesalves/Python/blob/main/RegrssaoLinear.ipynb\" target=\"_parent\"><img src=\"https://colab.research.google.com/assets/colab-badge.svg\" alt=\"Open In Colab\"/></a>"
      ]
    },
    {
      "cell_type": "code",
      "execution_count": 19,
      "metadata": {
        "id": "-T2-sSANsibo"
      },
      "outputs": [],
      "source": [
        "from numpy import *\n",
        "\n",
        "class LinearRegression:\n",
        "    def __init__(self, x, y):\n",
        "      self.x = x\n",
        "      self.y = y\n",
        "      self.__correlation_coefficient = self.__correlacao()\n",
        "      self.__inclination = self.__inclinacao()\n",
        "      self.__interception = self.__interceptacao()\n",
        "\n",
        "    def __correlacao(self):\n",
        "      covariacao = cov(self.x, self.y, bias=True)[0][1]\n",
        "      variancia_x = var(self.x)\n",
        "      variancia_y = var(self.y)\n",
        "      return covariacao / sqrt(variancia_x * variancia_y)\n",
        "\n",
        "    def __inclinacao(self):\n",
        "      stdx = std(self.x)\n",
        "      stdy = std(self.y)\n",
        "      return self.__correlation_coefficient * stdy / stdx\n",
        "\n",
        "    def __interceptacao(self):\n",
        "      mediax = mean(self.x)\n",
        "      mediay = mean(self.y)\n",
        "      return mediay - mediax * self.__inclination\n",
        "\n",
        "    def previsao(self,valor):\n",
        "      return  self.__interception + (self.__inclination * valor)\n",
        ""
      ]
    },
    {
      "cell_type": "code",
      "source": [
        "x = array([1,2,3,4,5])\n",
        "y = array([2,3,6,8,10])\n",
        "\n",
        "lr = LinearRegression(x,y)\n",
        "previsao = lr.previsao(6)\n",
        "\n",
        "print(previsao)"
      ],
      "metadata": {
        "colab": {
          "base_uri": "https://localhost:8080/"
        },
        "id": "5Q5Kvhr_yyXg",
        "outputId": "dd4520e9-695a-42c8-f2cf-496c9f672bec"
      },
      "execution_count": 20,
      "outputs": [
        {
          "output_type": "stream",
          "name": "stdout",
          "text": [
            "12.100000000000001\n"
          ]
        }
      ]
    },
    {
      "cell_type": "markdown",
      "source": [
        "# Regressão"
      ],
      "metadata": {
        "id": "PxWgFqBU4Ffu"
      }
    },
    {
      "cell_type": "code",
      "source": [
        "import pandas as pd\n",
        "import numpy as np\n",
        "import matplotlib.pyplot as plt\n",
        "import statsmodels.formula.api as sm\n",
        "import scipy.stats as stats\n",
        "import seaborn as sns"
      ],
      "metadata": {
        "id": "3SFX9-Ae4SRA"
      },
      "execution_count": 1,
      "outputs": []
    },
    {
      "cell_type": "code",
      "source": [
        "base = pd.read_csv('mt_cars.csv')\n",
        "base.shape"
      ],
      "metadata": {
        "colab": {
          "base_uri": "https://localhost:8080/"
        },
        "id": "inHQzwP15ZIL",
        "outputId": "f6466232-8c2d-4ecb-a984-9124a0c27179"
      },
      "execution_count": 3,
      "outputs": [
        {
          "output_type": "execute_result",
          "data": {
            "text/plain": [
              "(32, 12)"
            ]
          },
          "metadata": {},
          "execution_count": 3
        }
      ]
    },
    {
      "cell_type": "code",
      "source": [
        "base.head"
      ],
      "metadata": {
        "id": "9adfXq2x6D6L",
        "outputId": "31801ac9-a130-4b35-87df-7af0aec8cf9a",
        "colab": {
          "base_uri": "https://localhost:8080/",
          "height": 187
        }
      },
      "execution_count": 4,
      "outputs": [
        {
          "output_type": "execute_result",
          "data": {
            "text/plain": [
              "<bound method NDFrame.head of              Unnamed: 0   mpg  cyl   disp   hp  drat     wt   qsec  vs  am  gear  carb\n",
              "0             Mazda RX4  21.0    6  160.0  110  3.90  2.620  16.46   0   1     4     4\n",
              "1         Mazda RX4 Wag  21.0    6  160.0  110  3.90  2.875  17.02   0   1     4     4\n",
              "2            Datsun 710  22.8    4  108.0   93  3.85  2.320  18.61   1   1     4     1\n",
              "3        Hornet 4 Drive  21.4    6  258.0  110  3.08  3.215  19.44   1   0     3     1\n",
              "4     Hornet Sportabout  18.7    8  360.0  175  3.15  3.440  17.02   0   0     3     2\n",
              "5               Valiant  18.1    6  225.0  105  2.76  3.460  20.22   1   0     3     1\n",
              "6            Duster 360  14.3    8  360.0  245  3.21  3.570  15.84   0   0     3     4\n",
              "7             Merc 240D  24.4    4  146.7   62  3.69  3.190  20.00   1   0     4     2\n",
              "8              Merc 230  22.8    4  140.8   95  3.92  3.150  22.90   1   0     4     2\n",
              "9              Merc 280  19.2    6  167.6  123  3.92  3.440  18.30   1   0     4     4\n",
              "10            Merc 280C  17.8    6  167.6  123  3.92  3.440  18.90   1   0     4     4\n",
              "11           Merc 450SE  16.4    8  275.8  180  3.07  4.070  17.40   0   0     3     3\n",
              "12           Merc 450SL  17.3    8  275.8  180  3.07  3.730  17.60   0   0     3     3\n",
              "13          Merc 450SLC  15.2    8  275.8  180  3.07  3.780  18.00   0   0     3     3\n",
              "14   Cadillac Fleetwood  10.4    8  472.0  205  2.93  5.250  17.98   0   0     3     4\n",
              "15  Lincoln Continental  10.4    8  460.0  215  3.00  5.424  17.82   0   0     3     4\n",
              "16    Chrysler Imperial  14.7    8  440.0  230  3.23  5.345  17.42   0   0     3     4\n",
              "17             Fiat 128  32.4    4   78.7   66  4.08  2.200  19.47   1   1     4     1\n",
              "18          Honda Civic  30.4    4   75.7   52  4.93  1.615  18.52   1   1     4     2\n",
              "19       Toyota Corolla  33.9    4   71.1   65  4.22  1.835  19.90   1   1     4     1\n",
              "20        Toyota Corona  21.5    4  120.1   97  3.70  2.465  20.01   1   0     3     1\n",
              "21     Dodge Challenger  15.5    8  318.0  150  2.76  3.520  16.87   0   0     3     2\n",
              "22          AMC Javelin  15.2    8  304.0  150  3.15  3.435  17.30   0   0     3     2\n",
              "23           Camaro Z28  13.3    8  350.0  245  3.73  3.840  15.41   0   0     3     4\n",
              "24     Pontiac Firebird  19.2    8  400.0  175  3.08  3.845  17.05   0   0     3     2\n",
              "25            Fiat X1-9  27.3    4   79.0   66  4.08  1.935  18.90   1   1     4     1\n",
              "26        Porsche 914-2  26.0    4  120.3   91  4.43  2.140  16.70   0   1     5     2\n",
              "27         Lotus Europa  30.4    4   95.1  113  3.77  1.513  16.90   1   1     5     2\n",
              "28       Ford Pantera L  15.8    8  351.0  264  4.22  3.170  14.50   0   1     5     4\n",
              "29         Ferrari Dino  19.7    6  145.0  175  3.62  2.770  15.50   0   1     5     6\n",
              "30        Maserati Bora  15.0    8  301.0  335  3.54  3.570  14.60   0   1     5     8\n",
              "31           Volvo 142E  21.4    4  121.0  109  4.11  2.780  18.60   1   1     4     2>"
            ],
            "text/html": [
              "<div style=\"max-width:800px; border: 1px solid var(--colab-border-color);\"><style>\n",
              "      pre.function-repr-contents {\n",
              "        overflow-x: auto;\n",
              "        padding: 8px 12px;\n",
              "        max-height: 500px;\n",
              "      }\n",
              "\n",
              "      pre.function-repr-contents.function-repr-contents-collapsed {\n",
              "        cursor: pointer;\n",
              "        max-height: 100px;\n",
              "      }\n",
              "    </style>\n",
              "    <pre style=\"white-space: initial; background:\n",
              "         var(--colab-secondary-surface-color); padding: 8px 12px;\n",
              "         border-bottom: 1px solid var(--colab-border-color);\"><b>pandas.core.generic.NDFrame.head</b><br/>def head(n: int=5) -&gt; Self</pre><pre class=\"function-repr-contents function-repr-contents-collapsed\" style=\"\"><a class=\"filepath\" style=\"display:none\" href=\"#\">/usr/local/lib/python3.10/dist-packages/pandas/core/generic.py</a>Return the first `n` rows.\n",
              "\n",
              "This function returns the first `n` rows for the object based\n",
              "on position. It is useful for quickly testing if your object\n",
              "has the right type of data in it.\n",
              "\n",
              "For negative values of `n`, this function returns all rows except\n",
              "the last `|n|` rows, equivalent to ``df[:n]``.\n",
              "\n",
              "If n is larger than the number of rows, this function returns all rows.\n",
              "\n",
              "Parameters\n",
              "----------\n",
              "n : int, default 5\n",
              "    Number of rows to select.\n",
              "\n",
              "Returns\n",
              "-------\n",
              "same type as caller\n",
              "    The first `n` rows of the caller object.\n",
              "\n",
              "See Also\n",
              "--------\n",
              "DataFrame.tail: Returns the last `n` rows.\n",
              "\n",
              "Examples\n",
              "--------\n",
              "&gt;&gt;&gt; df = pd.DataFrame({&#x27;animal&#x27;: [&#x27;alligator&#x27;, &#x27;bee&#x27;, &#x27;falcon&#x27;, &#x27;lion&#x27;,\n",
              "...                    &#x27;monkey&#x27;, &#x27;parrot&#x27;, &#x27;shark&#x27;, &#x27;whale&#x27;, &#x27;zebra&#x27;]})\n",
              "&gt;&gt;&gt; df\n",
              "      animal\n",
              "0  alligator\n",
              "1        bee\n",
              "2     falcon\n",
              "3       lion\n",
              "4     monkey\n",
              "5     parrot\n",
              "6      shark\n",
              "7      whale\n",
              "8      zebra\n",
              "\n",
              "Viewing the first 5 lines\n",
              "\n",
              "&gt;&gt;&gt; df.head()\n",
              "      animal\n",
              "0  alligator\n",
              "1        bee\n",
              "2     falcon\n",
              "3       lion\n",
              "4     monkey\n",
              "\n",
              "Viewing the first `n` lines (three in this case)\n",
              "\n",
              "&gt;&gt;&gt; df.head(3)\n",
              "      animal\n",
              "0  alligator\n",
              "1        bee\n",
              "2     falcon\n",
              "\n",
              "For negative values of `n`\n",
              "\n",
              "&gt;&gt;&gt; df.head(-3)\n",
              "      animal\n",
              "0  alligator\n",
              "1        bee\n",
              "2     falcon\n",
              "3       lion\n",
              "4     monkey\n",
              "5     parrot</pre>\n",
              "      <script>\n",
              "      if (google.colab.kernel.accessAllowed && google.colab.files && google.colab.files.view) {\n",
              "        for (const element of document.querySelectorAll('.filepath')) {\n",
              "          element.style.display = 'block'\n",
              "          element.onclick = (event) => {\n",
              "            event.preventDefault();\n",
              "            event.stopPropagation();\n",
              "            google.colab.files.view(element.textContent, 5818);\n",
              "          };\n",
              "        }\n",
              "      }\n",
              "      for (const element of document.querySelectorAll('.function-repr-contents')) {\n",
              "        element.onclick = (event) => {\n",
              "          event.preventDefault();\n",
              "          event.stopPropagation();\n",
              "          element.classList.toggle('function-repr-contents-collapsed');\n",
              "        };\n",
              "      }\n",
              "      </script>\n",
              "      </div>"
            ]
          },
          "metadata": {},
          "execution_count": 4
        }
      ]
    }
  ]
}